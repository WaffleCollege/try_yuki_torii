{
  "nbformat": 4,
  "nbformat_minor": 0,
  "metadata": {
    "colab": {
      "provenance": [],
      "include_colab_link": true
    },
    "kernelspec": {
      "name": "python3",
      "display_name": "Python 3"
    },
    "language_info": {
      "name": "python"
    }
  },
  "cells": [
    {
      "cell_type": "markdown",
      "metadata": {
        "id": "view-in-github",
        "colab_type": "text"
      },
      "source": [
        "<a href=\"https://colab.research.google.com/github/WaffleCollege/try_yuki_torii/blob/main/03_%E4%BA%8B%E5%89%8D%E8%AA%B2%E9%A1%8C_%E3%83%AA%E3%82%B9%E3%83%88%EF%BC%88%E9%85%8D%E5%88%97%EF%BC%89.ipynb\" target=\"_parent\"><img src=\"https://colab.research.google.com/assets/colab-badge.svg\" alt=\"Open In Colab\"/></a>"
      ]
    },
    {
      "cell_type": "code",
      "execution_count": null,
      "metadata": {
        "id": "GbhbhtmUxxaM"
      },
      "outputs": [],
      "source": [
        "# @title 問題1: 次のコードを完成させて'orange' を出力させてください\n",
        "fruits = ['banana', 'apple', 'orange', 'grape']\n",
        "\n",
        "print(fruits[])"
      ]
    },
    {
      "cell_type": "code",
      "source": [
        "# @title 問題2: 次のコードを完成させてfruitsが何個あるかを出力させてください\n",
        "\n",
        "fruits = ['banana', 'apple', 'orange', 'grape']\n",
        "\n",
        "print(fruits)\n"
      ],
      "metadata": {
        "id": "aavOKN5ZyhUK"
      },
      "execution_count": null,
      "outputs": []
    },
    {
      "cell_type": "code",
      "source": [
        "# @title 問題3: 次のコードを完成させてfruitsに'pear'を追加してください\n",
        "\n",
        "fruits = ['banana', 'apple', 'orange', 'grape']\n",
        "\n",
        "fruits.\n",
        "\n",
        "print(fruits)"
      ],
      "metadata": {
        "id": "MmTlRKr4zUDk"
      },
      "execution_count": null,
      "outputs": []
    },
    {
      "cell_type": "code",
      "source": [
        "# @title 問題4: 次のコードを完成させてfruitsとvegetables を合わせた リストfresh_foods を作ってください\n",
        "fruits = ['banana', 'apple', 'orange', 'grape']\n",
        "vegetables = ['carrot', 'radish']\n",
        "fresh_foods =\n",
        "print(fresh_foods)"
      ],
      "metadata": {
        "id": "1uiYYimU0rBQ"
      },
      "execution_count": null,
      "outputs": []
    },
    {
      "cell_type": "code",
      "source": [
        "# @title 問題5: 次のコードを完成させてfruitsの中身をbasketに一つずつ入れていってください\n",
        "\n",
        "basket = []\n",
        "fruits = ['banana', 'apple', 'orange', 'grape']\n",
        "for fruit in fruits:\n",
        "  basket.\n",
        "  print(basket)\n",
        "\n",
        "print('end')\n",
        "print(basket)"
      ],
      "metadata": {
        "id": "ABx_UaHS1plN"
      },
      "execution_count": null,
      "outputs": []
    }
  ]
}